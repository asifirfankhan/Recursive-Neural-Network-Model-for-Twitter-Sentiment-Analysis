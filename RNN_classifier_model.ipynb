{
 "cells": [
  {
   "cell_type": "code",
   "execution_count": 1,
   "metadata": {
    "collapsed": true
   },
   "outputs": [],
   "source": [
    "#Import\n",
    "\n",
    "import sys\n",
    "import pandas as pd\n",
    "import tensorflow as tf\n",
    "from termcolor import colored"
   ]
  },
  {
   "cell_type": "code",
   "execution_count": 2,
   "metadata": {
    "collapsed": false
   },
   "outputs": [
    {
     "name": "stdout",
     "output_type": "stream",
     "text": [
      "\u001b[34mPython Version: 3.5.2\u001b[0m\n",
      "\u001b[35mTensorFlow Ver: 1.8.0\u001b[0m\n"
     ]
    }
   ],
   "source": [
    "#Python and Tensorflow version check\n",
    "\n",
    "print(colored('Python Version: %s' % sys.version.split()[0], 'blue'))\n",
    "print(colored('TensorFlow Ver: %s' % tf.__version__, 'magenta'))"
   ]
  },
  {
   "cell_type": "code",
   "execution_count": 3,
   "metadata": {
    "collapsed": false
   },
   "outputs": [
    {
     "name": "stdout",
     "output_type": "stream",
     "text": [
      "Enter no. of epochs for RNN training: 5\n",
      "\u001b[31mNo. of epochs: 5\u001b[0m\n"
     ]
    }
   ],
   "source": [
    "#Feed forward + Backprop =epoch\n",
    "\n",
    "n_epoch = int(input('Enter no. of epochs for RNN training: '))\n",
    "print(colored('No. of epochs: %d' % n_epoch, 'red'))\n",
    "\n",
    "pd.set_option('display.max_colwidth', 1000)"
   ]
  },
  {
   "cell_type": "code",
   "execution_count": 4,
   "metadata": {
    "collapsed": true
   },
   "outputs": [],
   "source": [
    "#Sqlite3 database\n",
    "\n",
    "import pandas as pd\n",
    "import sqlite3\n",
    "\n",
    "#Connect to database\n",
    "\n",
    "conn = sqlite3.connect('Twitter Database.db')\n",
    "c = conn.cursor()\n",
    "\n",
    "sent_ver = pd.read_sql_query('SELECT * FROM SentimentData',conn)\n",
    "\n",
    "c.close()\n",
    "conn.close()"
   ]
  },
  {
   "cell_type": "code",
   "execution_count": 5,
   "metadata": {
    "collapsed": false
   },
   "outputs": [
    {
     "data": {
      "text/html": [
       "<div>\n",
       "<table border=\"1\" class=\"dataframe\">\n",
       "  <thead>\n",
       "    <tr style=\"text-align: right;\">\n",
       "      <th></th>\n",
       "      <th>Tweets</th>\n",
       "      <th>Sentiment</th>\n",
       "    </tr>\n",
       "  </thead>\n",
       "  <tbody>\n",
       "    <tr>\n",
       "      <th>0</th>\n",
       "      <td>RT @foxandfriends: Low blow! Donald Trump Jr's daughter gets dragged into anti-Trump Twitter attack (via @FoxFriendsFirst) https://t.co/QLoâ¦</td>\n",
       "      <td>1</td>\n",
       "    </tr>\n",
       "    <tr>\n",
       "      <th>1</th>\n",
       "      <td>RT @MrDane1982: Not Just Trump: How Bernie Sanders' Campaign Also Had Deeply Imbedded Russian Connections https://t.co/sHsgWjPUpK</td>\n",
       "      <td>1</td>\n",
       "    </tr>\n",
       "    <tr>\n",
       "      <th>2</th>\n",
       "      <td>RT @sarahkendzior: Some tweets from that guy the Trump admin is suddenly unfamiliar with during the month the campaign fell under FBI invesâ¦</td>\n",
       "      <td>1</td>\n",
       "    </tr>\n",
       "    <tr>\n",
       "      <th>3</th>\n",
       "      <td>RT @20committee: Trump's about to learn his just-throw-my-old-pal-under-the-bus routine doesn't work on folks facing indictments + decadesâ¦</td>\n",
       "      <td>1</td>\n",
       "    </tr>\n",
       "    <tr>\n",
       "      <th>4</th>\n",
       "      <td>There's something rotten in the state of America #Trump #books #Shakespeare #amwriting\\nhttps://t.co/iAqIExPYke https://t.co/A8RCrxng4v</td>\n",
       "      <td>1</td>\n",
       "    </tr>\n",
       "    <tr>\n",
       "      <th>5</th>\n",
       "      <td>RT @PrincessBravato: Sally Yates should go public\\nThis is bullshit Nunes doesn't want us to know the trump team are traitors\\n#TrumpRussiaâ¦</td>\n",
       "      <td>1</td>\n",
       "    </tr>\n",
       "    <tr>\n",
       "      <th>6</th>\n",
       "      <td>MEA slags @nytimes for its editorial on UP CM choice, but also for its coverage of President Trump??  ð¤ https://t.co/LZjy5cBzJ9</td>\n",
       "      <td>1</td>\n",
       "    </tr>\n",
       "    <tr>\n",
       "      <th>7</th>\n",
       "      <td>WATCH #LIVE: Trump press secretary Sean Spicer holds White House media briefing https://t.co/psDLiEEvkD https://t.co/nanKZ7bXqC</td>\n",
       "      <td>1</td>\n",
       "    </tr>\n",
       "    <tr>\n",
       "      <th>8</th>\n",
       "      <td>Trump's health care repeal clears first hurdle â¡ï¸ by @mmcauliff https://t.co/AzU17AH5s1 via @HuffPostPol</td>\n",
       "      <td>1</td>\n",
       "    </tr>\n",
       "    <tr>\n",
       "      <th>9</th>\n",
       "      <td>RT @THEJOKER20161: @rte\\nGlobalist Jesuit Controlled Ireland has The Silent Majority in Virtual Lock Down\\nAll News is Controlled &amp;amp;\\nTRUMP isâ¦</td>\n",
       "      <td>0</td>\n",
       "    </tr>\n",
       "  </tbody>\n",
       "</table>\n",
       "</div>"
      ],
      "text/plain": [
       "                                                                                                                                                 Tweets  \\\n",
       "0        RT @foxandfriends: Low blow! Donald Trump Jr's daughter gets dragged into anti-Trump Twitter attack (via @FoxFriendsFirst) https://t.co/QLoâ¦   \n",
       "1                     RT @MrDane1982: Not Just Trump: How Bernie Sanders' Campaign Also Had Deeply Imbedded Russian Connections https://t.co/sHsgWjPUpK   \n",
       "2        RT @sarahkendzior: Some tweets from that guy the Trump admin is suddenly unfamiliar with during the month the campaign fell under FBI invesâ¦   \n",
       "3         RT @20committee: Trump's about to learn his just-throw-my-old-pal-under-the-bus routine doesn't work on folks facing indictments + decadesâ¦   \n",
       "4               There's something rotten in the state of America #Trump #books #Shakespeare #amwriting\\nhttps://t.co/iAqIExPYke https://t.co/A8RCrxng4v   \n",
       "5        RT @PrincessBravato: Sally Yates should go public\\nThis is bullshit Nunes doesn't want us to know the trump team are traitors\\n#TrumpRussiaâ¦   \n",
       "6                    MEA slags @nytimes for its editorial on UP CM choice, but also for its coverage of President Trump??  ð¤ https://t.co/LZjy5cBzJ9   \n",
       "7                       WATCH #LIVE: Trump press secretary Sean Spicer holds White House media briefing https://t.co/psDLiEEvkD https://t.co/nanKZ7bXqC   \n",
       "8                                          Trump's health care repeal clears first hurdle â¡ï¸ by @mmcauliff https://t.co/AzU17AH5s1 via @HuffPostPol   \n",
       "9  RT @THEJOKER20161: @rte\\nGlobalist Jesuit Controlled Ireland has The Silent Majority in Virtual Lock Down\\nAll News is Controlled &amp;\\nTRUMP isâ¦   \n",
       "\n",
       "  Sentiment  \n",
       "0         1  \n",
       "1         1  \n",
       "2         1  \n",
       "3         1  \n",
       "4         1  \n",
       "5         1  \n",
       "6         1  \n",
       "7         1  \n",
       "8         1  \n",
       "9         0  "
      ]
     },
     "execution_count": 5,
     "metadata": {},
     "output_type": "execute_result"
    }
   ],
   "source": [
    "#Tweet  \n",
    "\n",
    "sent_ver.head(10)"
   ]
  },
  {
   "cell_type": "code",
   "execution_count": 6,
   "metadata": {
    "collapsed": false
   },
   "outputs": [
    {
     "name": "stdout",
     "output_type": "stream",
     "text": [
      "sent_ver.shape: (103704, 2)\n"
     ]
    },
    {
     "data": {
      "text/plain": [
       "1    64390\n",
       "0    39314\n",
       "Name: Sentiment, dtype: int64"
      ]
     },
     "execution_count": 6,
     "metadata": {},
     "output_type": "execute_result"
    }
   ],
   "source": [
    "#Number of tweet and shape\n",
    "\n",
    "print('sent_ver.shape:', sent_ver.shape)\n",
    "\n",
    "#Number of positive and negative data [1 = positive. 0 = negative]\n",
    "\n",
    "sent_ver.Sentiment.value_counts()"
   ]
  },
  {
   "cell_type": "code",
   "execution_count": 7,
   "metadata": {
    "collapsed": false
   },
   "outputs": [
    {
     "data": {
      "text/html": [
       "<div>\n",
       "<table border=\"1\" class=\"dataframe\">\n",
       "  <thead>\n",
       "    <tr style=\"text-align: right;\">\n",
       "      <th></th>\n",
       "      <th>Sentiment</th>\n",
       "      <th>Tweets</th>\n",
       "    </tr>\n",
       "  </thead>\n",
       "  <tbody>\n",
       "    <tr>\n",
       "      <th>0</th>\n",
       "      <td>1</td>\n",
       "      <td>RT @foxandfriends: Low blow! Donald Trump Jr's daughter gets dragged into anti-Trump Twitter attack (via @FoxFriendsFirst) https://t.co/QLoâ¦</td>\n",
       "    </tr>\n",
       "    <tr>\n",
       "      <th>1</th>\n",
       "      <td>1</td>\n",
       "      <td>RT @MrDane1982: Not Just Trump: How Bernie Sanders' Campaign Also Had Deeply Imbedded Russian Connections https://t.co/sHsgWjPUpK</td>\n",
       "    </tr>\n",
       "    <tr>\n",
       "      <th>2</th>\n",
       "      <td>1</td>\n",
       "      <td>RT @sarahkendzior: Some tweets from that guy the Trump admin is suddenly unfamiliar with during the month the campaign fell under FBI invesâ¦</td>\n",
       "    </tr>\n",
       "    <tr>\n",
       "      <th>3</th>\n",
       "      <td>1</td>\n",
       "      <td>RT @20committee: Trump's about to learn his just-throw-my-old-pal-under-the-bus routine doesn't work on folks facing indictments + decadesâ¦</td>\n",
       "    </tr>\n",
       "    <tr>\n",
       "      <th>4</th>\n",
       "      <td>1</td>\n",
       "      <td>There's something rotten in the state of America #Trump #books #Shakespeare #amwriting\\nhttps://t.co/iAqIExPYke https://t.co/A8RCrxng4v</td>\n",
       "    </tr>\n",
       "    <tr>\n",
       "      <th>5</th>\n",
       "      <td>1</td>\n",
       "      <td>RT @PrincessBravato: Sally Yates should go public\\nThis is bullshit Nunes doesn't want us to know the trump team are traitors\\n#TrumpRussiaâ¦</td>\n",
       "    </tr>\n",
       "    <tr>\n",
       "      <th>6</th>\n",
       "      <td>1</td>\n",
       "      <td>MEA slags @nytimes for its editorial on UP CM choice, but also for its coverage of President Trump??  ð¤ https://t.co/LZjy5cBzJ9</td>\n",
       "    </tr>\n",
       "    <tr>\n",
       "      <th>7</th>\n",
       "      <td>1</td>\n",
       "      <td>WATCH #LIVE: Trump press secretary Sean Spicer holds White House media briefing https://t.co/psDLiEEvkD https://t.co/nanKZ7bXqC</td>\n",
       "    </tr>\n",
       "    <tr>\n",
       "      <th>8</th>\n",
       "      <td>1</td>\n",
       "      <td>Trump's health care repeal clears first hurdle â¡ï¸ by @mmcauliff https://t.co/AzU17AH5s1 via @HuffPostPol</td>\n",
       "    </tr>\n",
       "    <tr>\n",
       "      <th>9</th>\n",
       "      <td>0</td>\n",
       "      <td>RT @THEJOKER20161: @rte\\nGlobalist Jesuit Controlled Ireland has The Silent Majority in Virtual Lock Down\\nAll News is Controlled &amp;amp;\\nTRUMP isâ¦</td>\n",
       "    </tr>\n",
       "  </tbody>\n",
       "</table>\n",
       "</div>"
      ],
      "text/plain": [
       "  Sentiment  \\\n",
       "0         1   \n",
       "1         1   \n",
       "2         1   \n",
       "3         1   \n",
       "4         1   \n",
       "5         1   \n",
       "6         1   \n",
       "7         1   \n",
       "8         1   \n",
       "9         0   \n",
       "\n",
       "                                                                                                                                                 Tweets  \n",
       "0        RT @foxandfriends: Low blow! Donald Trump Jr's daughter gets dragged into anti-Trump Twitter attack (via @FoxFriendsFirst) https://t.co/QLoâ¦  \n",
       "1                     RT @MrDane1982: Not Just Trump: How Bernie Sanders' Campaign Also Had Deeply Imbedded Russian Connections https://t.co/sHsgWjPUpK  \n",
       "2        RT @sarahkendzior: Some tweets from that guy the Trump admin is suddenly unfamiliar with during the month the campaign fell under FBI invesâ¦  \n",
       "3         RT @20committee: Trump's about to learn his just-throw-my-old-pal-under-the-bus routine doesn't work on folks facing indictments + decadesâ¦  \n",
       "4               There's something rotten in the state of America #Trump #books #Shakespeare #amwriting\\nhttps://t.co/iAqIExPYke https://t.co/A8RCrxng4v  \n",
       "5        RT @PrincessBravato: Sally Yates should go public\\nThis is bullshit Nunes doesn't want us to know the trump team are traitors\\n#TrumpRussiaâ¦  \n",
       "6                    MEA slags @nytimes for its editorial on UP CM choice, but also for its coverage of President Trump??  ð¤ https://t.co/LZjy5cBzJ9  \n",
       "7                       WATCH #LIVE: Trump press secretary Sean Spicer holds White House media briefing https://t.co/psDLiEEvkD https://t.co/nanKZ7bXqC  \n",
       "8                                          Trump's health care repeal clears first hurdle â¡ï¸ by @mmcauliff https://t.co/AzU17AH5s1 via @HuffPostPol  \n",
       "9  RT @THEJOKER20161: @rte\\nGlobalist Jesuit Controlled Ireland has The Silent Majority in Virtual Lock Down\\nAll News is Controlled &amp;\\nTRUMP isâ¦  "
      ]
     },
     "execution_count": 7,
     "metadata": {},
     "output_type": "execute_result"
    }
   ],
   "source": [
    "sent = sent_ver[ ['Sentiment','Tweets'] ].copy()\n",
    "sent.head(10)"
   ]
  },
  {
   "cell_type": "code",
   "execution_count": 8,
   "metadata": {
    "collapsed": false
   },
   "outputs": [
    {
     "data": {
      "text/plain": [
       "0    1\n",
       "1    1\n",
       "2    1\n",
       "3    1\n",
       "4    1\n",
       "5    1\n",
       "6    1\n",
       "7    1\n",
       "8    1\n",
       "9    0\n",
       "Name: Sentiment, dtype: object"
      ]
     },
     "execution_count": 8,
     "metadata": {},
     "output_type": "execute_result"
    }
   ],
   "source": [
    "X = sent.Tweets\n",
    "y = sent.Sentiment \n",
    "\n",
    "X.head(10)\n",
    "y.head(10)"
   ]
  },
  {
   "cell_type": "code",
   "execution_count": 9,
   "metadata": {
    "collapsed": false
   },
   "outputs": [
    {
     "name": "stdout",
     "output_type": "stream",
     "text": [
      "curses is not supported on this machine (please install/reinstall curses for an optimal experience)\n"
     ]
    }
   ],
   "source": [
    "#Import tflearn\n",
    "\n",
    "import tflearn\n",
    "from tflearn.data_utils import to_categorical, pad_sequences\n",
    "\n",
    "#Train-Test-Split\n",
    "from sklearn.model_selection import train_test_split\n",
    "X_train, X_test, y_train, y_test = train_test_split(X, y, test_size=0.1, random_state=42)\n",
    "\n",
    "\n",
    "#Create the vocab (so that we can create X_word_ids from X)\n",
    "from sklearn.feature_extraction.text import CountVectorizer\n",
    "vect = CountVectorizer(ngram_range=(1,1), token_pattern=r'\\b\\w{1,}\\b')\n",
    "\n",
    "vect.fit(X_train)\n",
    "vocab = vect.vocabulary_"
   ]
  },
  {
   "cell_type": "code",
   "execution_count": 10,
   "metadata": {
    "collapsed": true
   },
   "outputs": [],
   "source": [
    "def convert_X_to_X_word_ids(X):\n",
    "    return X.apply( lambda x: [vocab[w] for w in [w.lower().strip() for w in x.split()] if w in vocab] )\n",
    "\n",
    "\n",
    "X_train_word_ids = convert_X_to_X_word_ids(X_train)\n",
    "X_test_word_ids  = convert_X_to_X_word_ids(X_test)"
   ]
  },
  {
   "cell_type": "code",
   "execution_count": 11,
   "metadata": {
    "collapsed": false
   },
   "outputs": [
    {
     "name": "stdout",
     "output_type": "stream",
     "text": [
      "X_train_word_ids.shape: (93333,)\n",
      "X_test_word_ids.shape: (10371,)\n"
     ]
    }
   ],
   "source": [
    "#Difference between X(_train/_test) and X(_train_word_ids/test_word_ids)\n",
    "\n",
    "X_train.head()\n",
    "\n",
    "X_train_word_ids.head()\n",
    "\n",
    "print('X_train_word_ids.shape:', X_train_word_ids.shape)\n",
    "print('X_test_word_ids.shape:', X_test_word_ids.shape)"
   ]
  },
  {
   "cell_type": "code",
   "execution_count": 12,
   "metadata": {
    "collapsed": false
   },
   "outputs": [
    {
     "name": "stdout",
     "output_type": "stream",
     "text": [
      "X_train_padded_seqs.shape: (93333, 20)\n",
      "X_test_padded_seqs.shape: (10371, 20)\n"
     ]
    }
   ],
   "source": [
    "#Sequence Padding\n",
    "\n",
    "X_train_padded_seqs = pad_sequences(X_train_word_ids, maxlen=20, value=0)\n",
    "X_test_padded_seqs  = pad_sequences(X_test_word_ids , maxlen=20, value=0)\n",
    "\n",
    "print('X_train_padded_seqs.shape:', X_train_padded_seqs.shape)\n",
    "print('X_test_padded_seqs.shape:', X_test_padded_seqs.shape)"
   ]
  },
  {
   "cell_type": "code",
   "execution_count": 13,
   "metadata": {
    "collapsed": false
   },
   "outputs": [
    {
     "data": {
      "text/plain": [
       "2"
      ]
     },
     "execution_count": 13,
     "metadata": {},
     "output_type": "execute_result"
    }
   ],
   "source": [
    "pd.DataFrame(X_train_padded_seqs).head()\n",
    "pd.DataFrame(X_test_padded_seqs).head()\n",
    "\n",
    "unique_y_labels = list(y_train.value_counts().index)\n",
    "unique_y_labels\n",
    "\n",
    "len(unique_y_labels)"
   ]
  },
  {
   "cell_type": "code",
   "execution_count": 15,
   "metadata": {
    "collapsed": false
   },
   "outputs": [
    {
     "name": "stdout",
     "output_type": "stream",
     "text": [
      "\n",
      "['1', '0']\n",
      "[1 0]\n",
      "\n",
      "\n",
      "1: 1\n",
      "0: 0\n",
      "\n",
      "y_train.shape: (93333, 2)\n",
      "y_test.shape: (10371, 2)\n"
     ]
    }
   ],
   "source": [
    "#Preprocess the data\n",
    "\n",
    "from sklearn import preprocessing\n",
    "le = preprocessing.LabelEncoder()\n",
    "le.fit(unique_y_labels)\n",
    "\n",
    "print('')\n",
    "print(unique_y_labels)\n",
    "print(le.transform(unique_y_labels))\n",
    "print('')\n",
    "\n",
    "print('')\n",
    "for label_id, label_name in zip(le.transform(unique_y_labels), unique_y_labels):\n",
    "    print('%d: %s' % (label_id, label_name))\n",
    "print('')    \n",
    "\n",
    "y_train = to_categorical(y_train.map(lambda x: le.transform([x])[0]), nb_classes=len(unique_y_labels))\n",
    "y_test  = to_categorical(y_test.map(lambda x:  le.transform([x])[0]), nb_classes=len(unique_y_labels))\n",
    "\n",
    "y_train[0:3]\n",
    "\n",
    "\n",
    "print('y_train.shape:', y_train.shape)\n",
    "print('y_test.shape:', y_test.shape)"
   ]
  },
  {
   "cell_type": "code",
   "execution_count": 16,
   "metadata": {
    "collapsed": false
   },
   "outputs": [
    {
     "name": "stdout",
     "output_type": "stream",
     "text": [
      "size_of_each_vector: 20\n",
      "vocab_size: 101205\n",
      "no_of_unique_y_labels: 2\n"
     ]
    }
   ],
   "source": [
    "#NETWORK BUILDING\n",
    "\n",
    "size_of_each_vector = X_train_padded_seqs.shape[1]\n",
    "vocab_size = len(vocab)\n",
    "no_of_unique_y_labels = len(unique_y_labels)\n",
    "\n",
    "print('size_of_each_vector:', size_of_each_vector)\n",
    "print('vocab_size:', vocab_size)\n",
    "print('no_of_unique_y_labels:', no_of_unique_y_labels)\n",
    "\n",
    "sgd = tflearn.SGD(learning_rate=1e-4, lr_decay=0.96, decay_step=1000)\n",
    "\n",
    "net = tflearn.input_data([None, size_of_each_vector]) \n",
    "net = tflearn.embedding(net, input_dim=vocab_size, output_dim=128) \n",
    "net = tflearn.lstm(net, 128, dropout=0.6) \n",
    "net = tflearn.fully_connected(net, no_of_unique_y_labels, activation='softmax') \n",
    "net = tflearn.regression(net, \n",
    "                         optimizer='adam',\n",
    "                         learning_rate=1e-4,\n",
    "                         loss='categorical_crossentropy')"
   ]
  },
  {
   "cell_type": "code",
   "execution_count": 17,
   "metadata": {
    "collapsed": false
   },
   "outputs": [
    {
     "name": "stdout",
     "output_type": "stream",
     "text": [
      "Training Step: 4669  | time: 186.157s\n",
      "| Adam | epoch: 005 | loss: 0.00000 - acc: 0.8377 -- iter: 93300/93333\n",
      "Training Step: 4670  | time: 189.102s\n",
      "| Adam | epoch: 005 | loss: 0.00000 - acc: 0.8390 | val_loss: 0.49605 - val_acc: 0.7637 -- iter: 93333/93333\n",
      "--\n"
     ]
    }
   ],
   "source": [
    "#Intialize the Model\n",
    "\n",
    "model = tflearn.DNN(net, tensorboard_verbose=0, checkpoint_path='Model4/model.tfl.ckpt')\n",
    "model = tflearn.DNN(net, tensorboard_verbose=0)\n",
    "\n",
    "\n",
    "#Train\n",
    "\n",
    "model.fit(X_train_padded_seqs, y_train, \n",
    "          validation_set=(X_test_padded_seqs, y_test), \n",
    "          n_epoch=n_epoch,\n",
    "          show_metric=True, \n",
    "          batch_size=100)"
   ]
  },
  {
   "cell_type": "code",
   "execution_count": 18,
   "metadata": {
    "collapsed": false
   },
   "outputs": [
    {
     "name": "stdout",
     "output_type": "stream",
     "text": [
      "\u001b[31mModel Saved!\u001b[0m\n",
      "\u001b[31mModel Loaded!\u001b[0m\n"
     ]
    }
   ],
   "source": [
    "#Manually Save the Model\n",
    "\n",
    "model.save('Model1/model.tfl')\n",
    "print(colored('Model Saved!', 'red'))\n",
    "\n",
    "#Manually Load the Model\n",
    "\n",
    "model.load('Model1/model.tfl')\n",
    "print(colored('Model Loaded!', 'red'))"
   ]
  },
  {
   "cell_type": "code",
   "execution_count": 19,
   "metadata": {
    "collapsed": false
   },
   "outputs": [
    {
     "name": "stdout",
     "output_type": "stream",
     "text": [
      "\u001b[36m\n",
      "RNN Classifier's Accuracy: 0.76367\n",
      "\u001b[0m\n"
     ]
    }
   ],
   "source": [
    "#RNN Accuracy\n",
    "\n",
    "import numpy as np\n",
    "from sklearn import metrics\n",
    "\n",
    "\n",
    "pred_classes = [np.argmax(i) for i in model.predict(X_test_padded_seqs)]\n",
    "true_classes = [np.argmax(i) for i in y_test]\n",
    "\n",
    "print(colored('\\nRNN Classifier\\'s Accuracy: %0.5f\\n' % metrics.accuracy_score(true_classes, pred_classes), 'cyan'))"
   ]
  },
  {
   "cell_type": "code",
   "execution_count": 20,
   "metadata": {
    "collapsed": false
   },
   "outputs": [
    {
     "name": "stdout",
     "output_type": "stream",
     "text": [
      "RT @Daily_Express: London terror attack victim Leslie Rhodes was Sir Winston Churchill's window cleaner https://t.co/86uF04vxCB https://t.câ¦\n",
      "pred_class: 0\n",
      "true_class: 0\n",
      "\n",
      "@Danthol Yeah, I know.    It's been tough; our schedule's completely thrown off the last few wks.  Really hoping to record this week.\n",
      "pred_class: 0\n",
      "true_class: 0\n",
      "\n",
      "@brb022 sorry brian\n",
      "pred_class: 0\n",
      "true_class: 1\n",
      "\n",
      "@asalko lol, so I &quot;saved&quot; a lot of $$$ by making one for myself  (1 hour, 3 versions, plenty of changes)\n",
      "pred_class: 1\n",
      "true_class: 1\n",
      "\n",
      "RT @ucpress: .@meisenbrandt reflects on the legacy of #OscarRomero on the anniversary of his death 37 years ago: https://t.co/8R3T5pBCEp htâ¦\n",
      "pred_class: 1\n",
      "true_class: 1\n",
      "\n",
      "@bellatx aren't we all\n",
      "pred_class: 1\n",
      "true_class: 0\n",
      "\n",
      "@bradleyjp try being snapped in places you don't want to be snapped\n",
      "pred_class: 0\n",
      "true_class: 1\n",
      "\n",
      "RT @kurteichenwald: Anyone who reads this and still supports killing ACA and adopting Trump care is either not human or is a sociopath. httâ¦\n",
      "pred_class: 1\n",
      "true_class: 1\n",
      "\n",
      "@aplusk lol, Awesomely sweet dude!\n",
      "pred_class: 1\n",
      "true_class: 1\n",
      "\n",
      "@CourVO Yipes! Praying this crisis &quot;passes&quot; quickly for you.\n",
      "pred_class: 0\n",
      "true_class: 0\n",
      "\n",
      "@carolinezorn http://twitpic.com/5cofl - aw the voyeur special, almost got a pair just like em\n",
      "pred_class: 1\n",
      "true_class: 1\n",
      "\n",
      "@csi_ceri morning sweets... hope you have a wonderful day\n",
      "pred_class: 1\n",
      "true_class: 1\n",
      "\n",
      "@cryssie u hurtin me w that new profile pic\n",
      "pred_class: 1\n",
      "true_class: 0\n",
      "\n",
      "@CreativeGirl wow! a newbie!  good luck! if u ever have any ?'s, let me know. I coach for BB.  make sure u log your stuff in WOWY!\n",
      "pred_class: 1\n",
      "true_class: 1\n",
      "\n",
      "@ChrystinaSayers ps, Toronto is calling your name\n",
      "pred_class: 1\n",
      "true_class: 1\n",
      "\n",
      "RT @AJentleson: Nunes Backs Down From Assertion Trump Was Monitored https://t.co/g3fRwmTQsg via @nbcnews\n",
      "pred_class: 0\n",
      "true_class: 0\n",
      "\n",
      "@carnalis tooth needs sorting out before jaunts at home or abroad this summer   you will need Gigi when I describe menu. Will wear hat\n",
      "pred_class: 1\n",
      "true_class: 0\n",
      "\n",
      "@einsteinsboi you are very welcome!\n",
      "pred_class: 1\n",
      "true_class: 1\n",
      "\n",
      "@buridan i did. it throws up lots of errors as well.\n",
      "pred_class: 1\n",
      "true_class: 0\n",
      "\n",
      "@ctham  #FollowFriday\n",
      "pred_class: 1\n",
      "true_class: 1\n",
      "\n",
      "@BayAreaCheap thanks for the Wax Museum advice--unfort too late!  ... just bookmarked your page! Awesome!\n",
      "pred_class: 1\n",
      "true_class: 0\n",
      "\n",
      "@Ariiellee I'm in love you baby and I thought you should know, that I'm hooked and your body and I'm ALL yours  haha\n",
      "pred_class: 1\n",
      "true_class: 1\n",
      "\n",
      "@DestinyHope92 hi, i'm great thanks  hbu? love your name! i'm emily (: x\n",
      "pred_class: 1\n",
      "true_class: 1\n",
      "\n",
      "@DarrenRuane thanx very  much 4 the follow! nice to see other rosie fans!\n",
      "pred_class: 1\n",
      "true_class: 1\n",
      "\n",
      "@CrunchyK I agree completely!!!! My body is soooo pissed at me for staying up till 4am!!! But on we go . . . have a good day!\n",
      "pred_class: 0\n",
      "true_class: 1\n",
      "\n",
      "@CarlyJoH Oh, now I'm sad bc we would've been getting ready together\n",
      "pred_class: 0\n",
      "true_class: 0\n",
      "\n",
      "@Costus this weather is bananas. bring back summer.\n",
      "pred_class: 1\n",
      "true_class: 0\n",
      "\n",
      "@centernetworks morning Allen, youre up early\n",
      "pred_class: 1\n",
      "true_class: 1\n",
      "\n",
      "@bibimbap, yes  I'm not sure I could have done 3L finals without him.\n",
      "pred_class: 0\n",
      "true_class: 1\n",
      "\n",
      "@bookdepository I cannot DM you!\n",
      "pred_class: 0\n",
      "true_class: 0\n",
      "\n",
      "@coachchelsey, my lil sis, is the best! She's opening all my King Crab legs 4 me  She's NEW to Twitter, show her some luv tweeps!!\n",
      "pred_class: 0\n",
      "true_class: 1\n",
      "\n",
      "@BiggBoyee see what happens when you leave your studio unattended???\n",
      "pred_class: 1\n",
      "true_class: 1\n",
      "\n",
      "@DarrenRoberts  gets your whites whiter than white\n",
      "pred_class: 0\n",
      "true_class: 1\n",
      "\n",
      "@Broooooke_ lol, my fave movie  x\n",
      "pred_class: 1\n",
      "true_class: 1\n",
      "\n",
      "@authorbuzz They're so hard to write, though, Marilyn!  Some people are so good and clever at it.  I'm not one of them.\n",
      "pred_class: 1\n",
      "true_class: 0\n",
      "\n",
      "@Blink182aholic fye\n",
      "pred_class: 1\n",
      "true_class: 1\n",
      "\n",
      "@DubarryMcfly same here  thats why i got dressed aha xxx\n",
      "pred_class: 0\n",
      "true_class: 1\n",
      "\n",
      "@dougiemcfly you make me laughh! in a good way. dont forget the suncream tho...sunburn hurts!!!\n",
      "pred_class: 1\n",
      "true_class: 0\n",
      "\n",
      "@Dozc Not aching too bad this morning, just very tired  Cat not on any special diet, just going to feed the fat bastard less!!\n",
      "pred_class: 0\n",
      "true_class: 0\n",
      "\n",
      "@Carole9, @player112345 i think i just won\n",
      "pred_class: 1\n",
      "true_class: 1\n",
      "\n",
      "@bikeskirt the blossom? from the tv show? my dad calls riley blossom.\n",
      "pred_class: 1\n",
      "true_class: 1\n",
      "\n",
      "@christinefarmer fortunately not down... just ... bit like you I guess, only more &quot;meh&quot; then &quot;bleh&quot;! *hv some jelly babies*\n",
      "pred_class: 0\n",
      "true_class: 1\n",
      "\n",
      "@bradkearney You never cease to amaze me. Btw, I'm still laughing about the Kyle thing\n",
      "pred_class: 1\n",
      "true_class: 1\n",
      "\n",
      "@BrendaBea Yeah...Daniel gets lonely...no one ever calls him anymore  Jack's doing well with eating\n",
      "pred_class: 0\n",
      "true_class: 1\n",
      "\n",
      "@CA_Young am sure he wouldn't have you killed; if he did would be extremely worried as he has my address now!!\n",
      "pred_class: 1\n",
      "true_class: 0\n",
      "\n",
      "RT @kenklippenstein: Today's the anniversary of US-backed murder of Oscar Romero. My proudest moment as a journo was getting his FBI file hâ¦\n",
      "pred_class: 1\n",
      "true_class: 1\n",
      "\n",
      "@dannywood Happy Mother's Day... We will always Remember Betty! Hope you have a nice day\n",
      "pred_class: 1\n",
      "true_class: 1\n",
      "\n",
      "@boomkack I want to join in on the LADY GAGA grinding party too  haha\n",
      "pred_class: 1\n",
      "true_class: 0\n",
      "\n",
      "@CHASEBELLEVUE  that wasn't nice lol\n",
      "pred_class: 1\n",
      "true_class: 0\n",
      "\n",
      "@DannysGhirl hey hun...hungover &amp; working  just popping on here 4 a little skive lol..how r u?? x\n",
      "pred_class: 1\n",
      "true_class: 0\n",
      "\n"
     ]
    },
    {
     "name": "stderr",
     "output_type": "stream",
     "text": [
      "C:\\Users\\asifi\\Anaconda3\\lib\\site-packages\\sklearn\\preprocessing\\label.py:151: DeprecationWarning: The truth value of an empty array is ambiguous. Returning False, but in future this will result in an error. Use `array.size > 0` to check that an array is not empty.\n",
      "  if diff:\n",
      "C:\\Users\\asifi\\Anaconda3\\lib\\site-packages\\sklearn\\preprocessing\\label.py:151: DeprecationWarning: The truth value of an empty array is ambiguous. Returning False, but in future this will result in an error. Use `array.size > 0` to check that an array is not empty.\n",
      "  if diff:\n",
      "C:\\Users\\asifi\\Anaconda3\\lib\\site-packages\\sklearn\\preprocessing\\label.py:151: DeprecationWarning: The truth value of an empty array is ambiguous. Returning False, but in future this will result in an error. Use `array.size > 0` to check that an array is not empty.\n",
      "  if diff:\n",
      "C:\\Users\\asifi\\Anaconda3\\lib\\site-packages\\sklearn\\preprocessing\\label.py:151: DeprecationWarning: The truth value of an empty array is ambiguous. Returning False, but in future this will result in an error. Use `array.size > 0` to check that an array is not empty.\n",
      "  if diff:\n",
      "C:\\Users\\asifi\\Anaconda3\\lib\\site-packages\\sklearn\\preprocessing\\label.py:151: DeprecationWarning: The truth value of an empty array is ambiguous. Returning False, but in future this will result in an error. Use `array.size > 0` to check that an array is not empty.\n",
      "  if diff:\n",
      "C:\\Users\\asifi\\Anaconda3\\lib\\site-packages\\sklearn\\preprocessing\\label.py:151: DeprecationWarning: The truth value of an empty array is ambiguous. Returning False, but in future this will result in an error. Use `array.size > 0` to check that an array is not empty.\n",
      "  if diff:\n",
      "C:\\Users\\asifi\\Anaconda3\\lib\\site-packages\\sklearn\\preprocessing\\label.py:151: DeprecationWarning: The truth value of an empty array is ambiguous. Returning False, but in future this will result in an error. Use `array.size > 0` to check that an array is not empty.\n",
      "  if diff:\n",
      "C:\\Users\\asifi\\Anaconda3\\lib\\site-packages\\sklearn\\preprocessing\\label.py:151: DeprecationWarning: The truth value of an empty array is ambiguous. Returning False, but in future this will result in an error. Use `array.size > 0` to check that an array is not empty.\n",
      "  if diff:\n",
      "C:\\Users\\asifi\\Anaconda3\\lib\\site-packages\\sklearn\\preprocessing\\label.py:151: DeprecationWarning: The truth value of an empty array is ambiguous. Returning False, but in future this will result in an error. Use `array.size > 0` to check that an array is not empty.\n",
      "  if diff:\n",
      "C:\\Users\\asifi\\Anaconda3\\lib\\site-packages\\sklearn\\preprocessing\\label.py:151: DeprecationWarning: The truth value of an empty array is ambiguous. Returning False, but in future this will result in an error. Use `array.size > 0` to check that an array is not empty.\n",
      "  if diff:\n",
      "C:\\Users\\asifi\\Anaconda3\\lib\\site-packages\\sklearn\\preprocessing\\label.py:151: DeprecationWarning: The truth value of an empty array is ambiguous. Returning False, but in future this will result in an error. Use `array.size > 0` to check that an array is not empty.\n",
      "  if diff:\n",
      "C:\\Users\\asifi\\Anaconda3\\lib\\site-packages\\sklearn\\preprocessing\\label.py:151: DeprecationWarning: The truth value of an empty array is ambiguous. Returning False, but in future this will result in an error. Use `array.size > 0` to check that an array is not empty.\n",
      "  if diff:\n",
      "C:\\Users\\asifi\\Anaconda3\\lib\\site-packages\\sklearn\\preprocessing\\label.py:151: DeprecationWarning: The truth value of an empty array is ambiguous. Returning False, but in future this will result in an error. Use `array.size > 0` to check that an array is not empty.\n",
      "  if diff:\n",
      "C:\\Users\\asifi\\Anaconda3\\lib\\site-packages\\sklearn\\preprocessing\\label.py:151: DeprecationWarning: The truth value of an empty array is ambiguous. Returning False, but in future this will result in an error. Use `array.size > 0` to check that an array is not empty.\n",
      "  if diff:\n",
      "C:\\Users\\asifi\\Anaconda3\\lib\\site-packages\\sklearn\\preprocessing\\label.py:151: DeprecationWarning: The truth value of an empty array is ambiguous. Returning False, but in future this will result in an error. Use `array.size > 0` to check that an array is not empty.\n",
      "  if diff:\n",
      "C:\\Users\\asifi\\Anaconda3\\lib\\site-packages\\sklearn\\preprocessing\\label.py:151: DeprecationWarning: The truth value of an empty array is ambiguous. Returning False, but in future this will result in an error. Use `array.size > 0` to check that an array is not empty.\n",
      "  if diff:\n",
      "C:\\Users\\asifi\\Anaconda3\\lib\\site-packages\\sklearn\\preprocessing\\label.py:151: DeprecationWarning: The truth value of an empty array is ambiguous. Returning False, but in future this will result in an error. Use `array.size > 0` to check that an array is not empty.\n",
      "  if diff:\n",
      "C:\\Users\\asifi\\Anaconda3\\lib\\site-packages\\sklearn\\preprocessing\\label.py:151: DeprecationWarning: The truth value of an empty array is ambiguous. Returning False, but in future this will result in an error. Use `array.size > 0` to check that an array is not empty.\n",
      "  if diff:\n",
      "C:\\Users\\asifi\\Anaconda3\\lib\\site-packages\\sklearn\\preprocessing\\label.py:151: DeprecationWarning: The truth value of an empty array is ambiguous. Returning False, but in future this will result in an error. Use `array.size > 0` to check that an array is not empty.\n",
      "  if diff:\n",
      "C:\\Users\\asifi\\Anaconda3\\lib\\site-packages\\sklearn\\preprocessing\\label.py:151: DeprecationWarning: The truth value of an empty array is ambiguous. Returning False, but in future this will result in an error. Use `array.size > 0` to check that an array is not empty.\n",
      "  if diff:\n",
      "C:\\Users\\asifi\\Anaconda3\\lib\\site-packages\\sklearn\\preprocessing\\label.py:151: DeprecationWarning: The truth value of an empty array is ambiguous. Returning False, but in future this will result in an error. Use `array.size > 0` to check that an array is not empty.\n",
      "  if diff:\n",
      "C:\\Users\\asifi\\Anaconda3\\lib\\site-packages\\sklearn\\preprocessing\\label.py:151: DeprecationWarning: The truth value of an empty array is ambiguous. Returning False, but in future this will result in an error. Use `array.size > 0` to check that an array is not empty.\n",
      "  if diff:\n",
      "C:\\Users\\asifi\\Anaconda3\\lib\\site-packages\\sklearn\\preprocessing\\label.py:151: DeprecationWarning: The truth value of an empty array is ambiguous. Returning False, but in future this will result in an error. Use `array.size > 0` to check that an array is not empty.\n",
      "  if diff:\n",
      "C:\\Users\\asifi\\Anaconda3\\lib\\site-packages\\sklearn\\preprocessing\\label.py:151: DeprecationWarning: The truth value of an empty array is ambiguous. Returning False, but in future this will result in an error. Use `array.size > 0` to check that an array is not empty.\n",
      "  if diff:\n",
      "C:\\Users\\asifi\\Anaconda3\\lib\\site-packages\\sklearn\\preprocessing\\label.py:151: DeprecationWarning: The truth value of an empty array is ambiguous. Returning False, but in future this will result in an error. Use `array.size > 0` to check that an array is not empty.\n",
      "  if diff:\n",
      "C:\\Users\\asifi\\Anaconda3\\lib\\site-packages\\sklearn\\preprocessing\\label.py:151: DeprecationWarning: The truth value of an empty array is ambiguous. Returning False, but in future this will result in an error. Use `array.size > 0` to check that an array is not empty.\n",
      "  if diff:\n",
      "C:\\Users\\asifi\\Anaconda3\\lib\\site-packages\\sklearn\\preprocessing\\label.py:151: DeprecationWarning: The truth value of an empty array is ambiguous. Returning False, but in future this will result in an error. Use `array.size > 0` to check that an array is not empty.\n",
      "  if diff:\n",
      "C:\\Users\\asifi\\Anaconda3\\lib\\site-packages\\sklearn\\preprocessing\\label.py:151: DeprecationWarning: The truth value of an empty array is ambiguous. Returning False, but in future this will result in an error. Use `array.size > 0` to check that an array is not empty.\n",
      "  if diff:\n",
      "C:\\Users\\asifi\\Anaconda3\\lib\\site-packages\\sklearn\\preprocessing\\label.py:151: DeprecationWarning: The truth value of an empty array is ambiguous. Returning False, but in future this will result in an error. Use `array.size > 0` to check that an array is not empty.\n",
      "  if diff:\n",
      "C:\\Users\\asifi\\Anaconda3\\lib\\site-packages\\sklearn\\preprocessing\\label.py:151: DeprecationWarning: The truth value of an empty array is ambiguous. Returning False, but in future this will result in an error. Use `array.size > 0` to check that an array is not empty.\n",
      "  if diff:\n",
      "C:\\Users\\asifi\\Anaconda3\\lib\\site-packages\\sklearn\\preprocessing\\label.py:151: DeprecationWarning: The truth value of an empty array is ambiguous. Returning False, but in future this will result in an error. Use `array.size > 0` to check that an array is not empty.\n",
      "  if diff:\n",
      "C:\\Users\\asifi\\Anaconda3\\lib\\site-packages\\sklearn\\preprocessing\\label.py:151: DeprecationWarning: The truth value of an empty array is ambiguous. Returning False, but in future this will result in an error. Use `array.size > 0` to check that an array is not empty.\n",
      "  if diff:\n",
      "C:\\Users\\asifi\\Anaconda3\\lib\\site-packages\\sklearn\\preprocessing\\label.py:151: DeprecationWarning: The truth value of an empty array is ambiguous. Returning False, but in future this will result in an error. Use `array.size > 0` to check that an array is not empty.\n",
      "  if diff:\n",
      "C:\\Users\\asifi\\Anaconda3\\lib\\site-packages\\sklearn\\preprocessing\\label.py:151: DeprecationWarning: The truth value of an empty array is ambiguous. Returning False, but in future this will result in an error. Use `array.size > 0` to check that an array is not empty.\n",
      "  if diff:\n",
      "C:\\Users\\asifi\\Anaconda3\\lib\\site-packages\\sklearn\\preprocessing\\label.py:151: DeprecationWarning: The truth value of an empty array is ambiguous. Returning False, but in future this will result in an error. Use `array.size > 0` to check that an array is not empty.\n",
      "  if diff:\n",
      "C:\\Users\\asifi\\Anaconda3\\lib\\site-packages\\sklearn\\preprocessing\\label.py:151: DeprecationWarning: The truth value of an empty array is ambiguous. Returning False, but in future this will result in an error. Use `array.size > 0` to check that an array is not empty.\n",
      "  if diff:\n",
      "C:\\Users\\asifi\\Anaconda3\\lib\\site-packages\\sklearn\\preprocessing\\label.py:151: DeprecationWarning: The truth value of an empty array is ambiguous. Returning False, but in future this will result in an error. Use `array.size > 0` to check that an array is not empty.\n",
      "  if diff:\n",
      "C:\\Users\\asifi\\Anaconda3\\lib\\site-packages\\sklearn\\preprocessing\\label.py:151: DeprecationWarning: The truth value of an empty array is ambiguous. Returning False, but in future this will result in an error. Use `array.size > 0` to check that an array is not empty.\n",
      "  if diff:\n",
      "C:\\Users\\asifi\\Anaconda3\\lib\\site-packages\\sklearn\\preprocessing\\label.py:151: DeprecationWarning: The truth value of an empty array is ambiguous. Returning False, but in future this will result in an error. Use `array.size > 0` to check that an array is not empty.\n",
      "  if diff:\n",
      "C:\\Users\\asifi\\Anaconda3\\lib\\site-packages\\sklearn\\preprocessing\\label.py:151: DeprecationWarning: The truth value of an empty array is ambiguous. Returning False, but in future this will result in an error. Use `array.size > 0` to check that an array is not empty.\n",
      "  if diff:\n",
      "C:\\Users\\asifi\\Anaconda3\\lib\\site-packages\\sklearn\\preprocessing\\label.py:151: DeprecationWarning: The truth value of an empty array is ambiguous. Returning False, but in future this will result in an error. Use `array.size > 0` to check that an array is not empty.\n",
      "  if diff:\n",
      "C:\\Users\\asifi\\Anaconda3\\lib\\site-packages\\sklearn\\preprocessing\\label.py:151: DeprecationWarning: The truth value of an empty array is ambiguous. Returning False, but in future this will result in an error. Use `array.size > 0` to check that an array is not empty.\n",
      "  if diff:\n",
      "C:\\Users\\asifi\\Anaconda3\\lib\\site-packages\\sklearn\\preprocessing\\label.py:151: DeprecationWarning: The truth value of an empty array is ambiguous. Returning False, but in future this will result in an error. Use `array.size > 0` to check that an array is not empty.\n",
      "  if diff:\n",
      "C:\\Users\\asifi\\Anaconda3\\lib\\site-packages\\sklearn\\preprocessing\\label.py:151: DeprecationWarning: The truth value of an empty array is ambiguous. Returning False, but in future this will result in an error. Use `array.size > 0` to check that an array is not empty.\n",
      "  if diff:\n",
      "C:\\Users\\asifi\\Anaconda3\\lib\\site-packages\\sklearn\\preprocessing\\label.py:151: DeprecationWarning: The truth value of an empty array is ambiguous. Returning False, but in future this will result in an error. Use `array.size > 0` to check that an array is not empty.\n",
      "  if diff:\n",
      "C:\\Users\\asifi\\Anaconda3\\lib\\site-packages\\sklearn\\preprocessing\\label.py:151: DeprecationWarning: The truth value of an empty array is ambiguous. Returning False, but in future this will result in an error. Use `array.size > 0` to check that an array is not empty.\n",
      "  if diff:\n",
      "C:\\Users\\asifi\\Anaconda3\\lib\\site-packages\\sklearn\\preprocessing\\label.py:151: DeprecationWarning: The truth value of an empty array is ambiguous. Returning False, but in future this will result in an error. Use `array.size > 0` to check that an array is not empty.\n",
      "  if diff:\n",
      "C:\\Users\\asifi\\Anaconda3\\lib\\site-packages\\sklearn\\preprocessing\\label.py:151: DeprecationWarning: The truth value of an empty array is ambiguous. Returning False, but in future this will result in an error. Use `array.size > 0` to check that an array is not empty.\n",
      "  if diff:\n",
      "C:\\Users\\asifi\\Anaconda3\\lib\\site-packages\\sklearn\\preprocessing\\label.py:151: DeprecationWarning: The truth value of an empty array is ambiguous. Returning False, but in future this will result in an error. Use `array.size > 0` to check that an array is not empty.\n",
      "  if diff:\n",
      "C:\\Users\\asifi\\Anaconda3\\lib\\site-packages\\sklearn\\preprocessing\\label.py:151: DeprecationWarning: The truth value of an empty array is ambiguous. Returning False, but in future this will result in an error. Use `array.size > 0` to check that an array is not empty.\n",
      "  if diff:\n",
      "C:\\Users\\asifi\\Anaconda3\\lib\\site-packages\\sklearn\\preprocessing\\label.py:151: DeprecationWarning: The truth value of an empty array is ambiguous. Returning False, but in future this will result in an error. Use `array.size > 0` to check that an array is not empty.\n",
      "  if diff:\n",
      "C:\\Users\\asifi\\Anaconda3\\lib\\site-packages\\sklearn\\preprocessing\\label.py:151: DeprecationWarning: The truth value of an empty array is ambiguous. Returning False, but in future this will result in an error. Use `array.size > 0` to check that an array is not empty.\n",
      "  if diff:\n",
      "C:\\Users\\asifi\\Anaconda3\\lib\\site-packages\\sklearn\\preprocessing\\label.py:151: DeprecationWarning: The truth value of an empty array is ambiguous. Returning False, but in future this will result in an error. Use `array.size > 0` to check that an array is not empty.\n",
      "  if diff:\n",
      "C:\\Users\\asifi\\Anaconda3\\lib\\site-packages\\sklearn\\preprocessing\\label.py:151: DeprecationWarning: The truth value of an empty array is ambiguous. Returning False, but in future this will result in an error. Use `array.size > 0` to check that an array is not empty.\n",
      "  if diff:\n",
      "C:\\Users\\asifi\\Anaconda3\\lib\\site-packages\\sklearn\\preprocessing\\label.py:151: DeprecationWarning: The truth value of an empty array is ambiguous. Returning False, but in future this will result in an error. Use `array.size > 0` to check that an array is not empty.\n",
      "  if diff:\n",
      "C:\\Users\\asifi\\Anaconda3\\lib\\site-packages\\sklearn\\preprocessing\\label.py:151: DeprecationWarning: The truth value of an empty array is ambiguous. Returning False, but in future this will result in an error. Use `array.size > 0` to check that an array is not empty.\n",
      "  if diff:\n",
      "C:\\Users\\asifi\\Anaconda3\\lib\\site-packages\\sklearn\\preprocessing\\label.py:151: DeprecationWarning: The truth value of an empty array is ambiguous. Returning False, but in future this will result in an error. Use `array.size > 0` to check that an array is not empty.\n",
      "  if diff:\n",
      "C:\\Users\\asifi\\Anaconda3\\lib\\site-packages\\sklearn\\preprocessing\\label.py:151: DeprecationWarning: The truth value of an empty array is ambiguous. Returning False, but in future this will result in an error. Use `array.size > 0` to check that an array is not empty.\n",
      "  if diff:\n",
      "C:\\Users\\asifi\\Anaconda3\\lib\\site-packages\\sklearn\\preprocessing\\label.py:151: DeprecationWarning: The truth value of an empty array is ambiguous. Returning False, but in future this will result in an error. Use `array.size > 0` to check that an array is not empty.\n",
      "  if diff:\n",
      "C:\\Users\\asifi\\Anaconda3\\lib\\site-packages\\sklearn\\preprocessing\\label.py:151: DeprecationWarning: The truth value of an empty array is ambiguous. Returning False, but in future this will result in an error. Use `array.size > 0` to check that an array is not empty.\n",
      "  if diff:\n",
      "C:\\Users\\asifi\\Anaconda3\\lib\\site-packages\\sklearn\\preprocessing\\label.py:151: DeprecationWarning: The truth value of an empty array is ambiguous. Returning False, but in future this will result in an error. Use `array.size > 0` to check that an array is not empty.\n",
      "  if diff:\n",
      "C:\\Users\\asifi\\Anaconda3\\lib\\site-packages\\sklearn\\preprocessing\\label.py:151: DeprecationWarning: The truth value of an empty array is ambiguous. Returning False, but in future this will result in an error. Use `array.size > 0` to check that an array is not empty.\n",
      "  if diff:\n",
      "C:\\Users\\asifi\\Anaconda3\\lib\\site-packages\\sklearn\\preprocessing\\label.py:151: DeprecationWarning: The truth value of an empty array is ambiguous. Returning False, but in future this will result in an error. Use `array.size > 0` to check that an array is not empty.\n",
      "  if diff:\n",
      "C:\\Users\\asifi\\Anaconda3\\lib\\site-packages\\sklearn\\preprocessing\\label.py:151: DeprecationWarning: The truth value of an empty array is ambiguous. Returning False, but in future this will result in an error. Use `array.size > 0` to check that an array is not empty.\n",
      "  if diff:\n",
      "C:\\Users\\asifi\\Anaconda3\\lib\\site-packages\\sklearn\\preprocessing\\label.py:151: DeprecationWarning: The truth value of an empty array is ambiguous. Returning False, but in future this will result in an error. Use `array.size > 0` to check that an array is not empty.\n",
      "  if diff:\n",
      "C:\\Users\\asifi\\Anaconda3\\lib\\site-packages\\sklearn\\preprocessing\\label.py:151: DeprecationWarning: The truth value of an empty array is ambiguous. Returning False, but in future this will result in an error. Use `array.size > 0` to check that an array is not empty.\n",
      "  if diff:\n",
      "C:\\Users\\asifi\\Anaconda3\\lib\\site-packages\\sklearn\\preprocessing\\label.py:151: DeprecationWarning: The truth value of an empty array is ambiguous. Returning False, but in future this will result in an error. Use `array.size > 0` to check that an array is not empty.\n",
      "  if diff:\n",
      "C:\\Users\\asifi\\Anaconda3\\lib\\site-packages\\sklearn\\preprocessing\\label.py:151: DeprecationWarning: The truth value of an empty array is ambiguous. Returning False, but in future this will result in an error. Use `array.size > 0` to check that an array is not empty.\n",
      "  if diff:\n",
      "C:\\Users\\asifi\\Anaconda3\\lib\\site-packages\\sklearn\\preprocessing\\label.py:151: DeprecationWarning: The truth value of an empty array is ambiguous. Returning False, but in future this will result in an error. Use `array.size > 0` to check that an array is not empty.\n",
      "  if diff:\n",
      "C:\\Users\\asifi\\Anaconda3\\lib\\site-packages\\sklearn\\preprocessing\\label.py:151: DeprecationWarning: The truth value of an empty array is ambiguous. Returning False, but in future this will result in an error. Use `array.size > 0` to check that an array is not empty.\n",
      "  if diff:\n",
      "C:\\Users\\asifi\\Anaconda3\\lib\\site-packages\\sklearn\\preprocessing\\label.py:151: DeprecationWarning: The truth value of an empty array is ambiguous. Returning False, but in future this will result in an error. Use `array.size > 0` to check that an array is not empty.\n",
      "  if diff:\n",
      "C:\\Users\\asifi\\Anaconda3\\lib\\site-packages\\sklearn\\preprocessing\\label.py:151: DeprecationWarning: The truth value of an empty array is ambiguous. Returning False, but in future this will result in an error. Use `array.size > 0` to check that an array is not empty.\n",
      "  if diff:\n",
      "C:\\Users\\asifi\\Anaconda3\\lib\\site-packages\\sklearn\\preprocessing\\label.py:151: DeprecationWarning: The truth value of an empty array is ambiguous. Returning False, but in future this will result in an error. Use `array.size > 0` to check that an array is not empty.\n",
      "  if diff:\n",
      "C:\\Users\\asifi\\Anaconda3\\lib\\site-packages\\sklearn\\preprocessing\\label.py:151: DeprecationWarning: The truth value of an empty array is ambiguous. Returning False, but in future this will result in an error. Use `array.size > 0` to check that an array is not empty.\n",
      "  if diff:\n",
      "C:\\Users\\asifi\\Anaconda3\\lib\\site-packages\\sklearn\\preprocessing\\label.py:151: DeprecationWarning: The truth value of an empty array is ambiguous. Returning False, but in future this will result in an error. Use `array.size > 0` to check that an array is not empty.\n",
      "  if diff:\n",
      "C:\\Users\\asifi\\Anaconda3\\lib\\site-packages\\sklearn\\preprocessing\\label.py:151: DeprecationWarning: The truth value of an empty array is ambiguous. Returning False, but in future this will result in an error. Use `array.size > 0` to check that an array is not empty.\n",
      "  if diff:\n",
      "C:\\Users\\asifi\\Anaconda3\\lib\\site-packages\\sklearn\\preprocessing\\label.py:151: DeprecationWarning: The truth value of an empty array is ambiguous. Returning False, but in future this will result in an error. Use `array.size > 0` to check that an array is not empty.\n",
      "  if diff:\n",
      "C:\\Users\\asifi\\Anaconda3\\lib\\site-packages\\sklearn\\preprocessing\\label.py:151: DeprecationWarning: The truth value of an empty array is ambiguous. Returning False, but in future this will result in an error. Use `array.size > 0` to check that an array is not empty.\n",
      "  if diff:\n",
      "C:\\Users\\asifi\\Anaconda3\\lib\\site-packages\\sklearn\\preprocessing\\label.py:151: DeprecationWarning: The truth value of an empty array is ambiguous. Returning False, but in future this will result in an error. Use `array.size > 0` to check that an array is not empty.\n",
      "  if diff:\n",
      "C:\\Users\\asifi\\Anaconda3\\lib\\site-packages\\sklearn\\preprocessing\\label.py:151: DeprecationWarning: The truth value of an empty array is ambiguous. Returning False, but in future this will result in an error. Use `array.size > 0` to check that an array is not empty.\n",
      "  if diff:\n",
      "C:\\Users\\asifi\\Anaconda3\\lib\\site-packages\\sklearn\\preprocessing\\label.py:151: DeprecationWarning: The truth value of an empty array is ambiguous. Returning False, but in future this will result in an error. Use `array.size > 0` to check that an array is not empty.\n",
      "  if diff:\n",
      "C:\\Users\\asifi\\Anaconda3\\lib\\site-packages\\sklearn\\preprocessing\\label.py:151: DeprecationWarning: The truth value of an empty array is ambiguous. Returning False, but in future this will result in an error. Use `array.size > 0` to check that an array is not empty.\n",
      "  if diff:\n",
      "C:\\Users\\asifi\\Anaconda3\\lib\\site-packages\\sklearn\\preprocessing\\label.py:151: DeprecationWarning: The truth value of an empty array is ambiguous. Returning False, but in future this will result in an error. Use `array.size > 0` to check that an array is not empty.\n",
      "  if diff:\n",
      "C:\\Users\\asifi\\Anaconda3\\lib\\site-packages\\sklearn\\preprocessing\\label.py:151: DeprecationWarning: The truth value of an empty array is ambiguous. Returning False, but in future this will result in an error. Use `array.size > 0` to check that an array is not empty.\n",
      "  if diff:\n",
      "C:\\Users\\asifi\\Anaconda3\\lib\\site-packages\\sklearn\\preprocessing\\label.py:151: DeprecationWarning: The truth value of an empty array is ambiguous. Returning False, but in future this will result in an error. Use `array.size > 0` to check that an array is not empty.\n",
      "  if diff:\n",
      "C:\\Users\\asifi\\Anaconda3\\lib\\site-packages\\sklearn\\preprocessing\\label.py:151: DeprecationWarning: The truth value of an empty array is ambiguous. Returning False, but in future this will result in an error. Use `array.size > 0` to check that an array is not empty.\n",
      "  if diff:\n",
      "C:\\Users\\asifi\\Anaconda3\\lib\\site-packages\\sklearn\\preprocessing\\label.py:151: DeprecationWarning: The truth value of an empty array is ambiguous. Returning False, but in future this will result in an error. Use `array.size > 0` to check that an array is not empty.\n",
      "  if diff:\n",
      "C:\\Users\\asifi\\Anaconda3\\lib\\site-packages\\sklearn\\preprocessing\\label.py:151: DeprecationWarning: The truth value of an empty array is ambiguous. Returning False, but in future this will result in an error. Use `array.size > 0` to check that an array is not empty.\n",
      "  if diff:\n",
      "C:\\Users\\asifi\\Anaconda3\\lib\\site-packages\\sklearn\\preprocessing\\label.py:151: DeprecationWarning: The truth value of an empty array is ambiguous. Returning False, but in future this will result in an error. Use `array.size > 0` to check that an array is not empty.\n",
      "  if diff:\n",
      "C:\\Users\\asifi\\Anaconda3\\lib\\site-packages\\sklearn\\preprocessing\\label.py:151: DeprecationWarning: The truth value of an empty array is ambiguous. Returning False, but in future this will result in an error. Use `array.size > 0` to check that an array is not empty.\n",
      "  if diff:\n",
      "C:\\Users\\asifi\\Anaconda3\\lib\\site-packages\\sklearn\\preprocessing\\label.py:151: DeprecationWarning: The truth value of an empty array is ambiguous. Returning False, but in future this will result in an error. Use `array.size > 0` to check that an array is not empty.\n",
      "  if diff:\n",
      "C:\\Users\\asifi\\Anaconda3\\lib\\site-packages\\sklearn\\preprocessing\\label.py:151: DeprecationWarning: The truth value of an empty array is ambiguous. Returning False, but in future this will result in an error. Use `array.size > 0` to check that an array is not empty.\n",
      "  if diff:\n",
      "C:\\Users\\asifi\\Anaconda3\\lib\\site-packages\\sklearn\\preprocessing\\label.py:151: DeprecationWarning: The truth value of an empty array is ambiguous. Returning False, but in future this will result in an error. Use `array.size > 0` to check that an array is not empty.\n",
      "  if diff:\n",
      "C:\\Users\\asifi\\Anaconda3\\lib\\site-packages\\sklearn\\preprocessing\\label.py:151: DeprecationWarning: The truth value of an empty array is ambiguous. Returning False, but in future this will result in an error. Use `array.size > 0` to check that an array is not empty.\n",
      "  if diff:\n",
      "C:\\Users\\asifi\\Anaconda3\\lib\\site-packages\\sklearn\\preprocessing\\label.py:151: DeprecationWarning: The truth value of an empty array is ambiguous. Returning False, but in future this will result in an error. Use `array.size > 0` to check that an array is not empty.\n",
      "  if diff:\n",
      "C:\\Users\\asifi\\Anaconda3\\lib\\site-packages\\sklearn\\preprocessing\\label.py:151: DeprecationWarning: The truth value of an empty array is ambiguous. Returning False, but in future this will result in an error. Use `array.size > 0` to check that an array is not empty.\n",
      "  if diff:\n",
      "C:\\Users\\asifi\\Anaconda3\\lib\\site-packages\\sklearn\\preprocessing\\label.py:151: DeprecationWarning: The truth value of an empty array is ambiguous. Returning False, but in future this will result in an error. Use `array.size > 0` to check that an array is not empty.\n",
      "  if diff:\n",
      "C:\\Users\\asifi\\Anaconda3\\lib\\site-packages\\sklearn\\preprocessing\\label.py:151: DeprecationWarning: The truth value of an empty array is ambiguous. Returning False, but in future this will result in an error. Use `array.size > 0` to check that an array is not empty.\n",
      "  if diff:\n",
      "C:\\Users\\asifi\\Anaconda3\\lib\\site-packages\\sklearn\\preprocessing\\label.py:151: DeprecationWarning: The truth value of an empty array is ambiguous. Returning False, but in future this will result in an error. Use `array.size > 0` to check that an array is not empty.\n",
      "  if diff:\n",
      "C:\\Users\\asifi\\Anaconda3\\lib\\site-packages\\sklearn\\preprocessing\\label.py:151: DeprecationWarning: The truth value of an empty array is ambiguous. Returning False, but in future this will result in an error. Use `array.size > 0` to check that an array is not empty.\n",
      "  if diff:\n"
     ]
    }
   ],
   "source": [
    "#Show some predicted tweet\n",
    "\n",
    "ids_of_titles = range(0,50) \n",
    "\n",
    "for i in ids_of_titles:\n",
    "    pred_class = np.argmax(model.predict([X_test_padded_seqs[i]]))\n",
    "    true_class = np.argmax(y_test[i])\n",
    "    \n",
    "    print(X_test.values[i])\n",
    "    print('pred_class:', le.inverse_transform(pred_class))\n",
    "    print('true_class:', le.inverse_transform(true_class))\n",
    "    print('')"
   ]
  },
  {
   "cell_type": "code",
   "execution_count": null,
   "metadata": {
    "collapsed": true
   },
   "outputs": [],
   "source": []
  }
 ],
 "metadata": {
  "anaconda-cloud": {},
  "kernelspec": {
   "display_name": "Python [Root]",
   "language": "python",
   "name": "Python [Root]"
  },
  "language_info": {
   "codemirror_mode": {
    "name": "ipython",
    "version": 3
   },
   "file_extension": ".py",
   "mimetype": "text/x-python",
   "name": "python",
   "nbconvert_exporter": "python",
   "pygments_lexer": "ipython3",
   "version": "3.5.2"
  }
 },
 "nbformat": 4,
 "nbformat_minor": 0
}
